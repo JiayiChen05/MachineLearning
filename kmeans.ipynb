{
 "cells": [
  {
   "cell_type": "markdown",
   "id": "a5bf934f",
   "metadata": {},
   "source": [
    "1. sklearn"
   ]
  },
  {
   "cell_type": "code",
   "execution_count": 1,
   "id": "df66f227",
   "metadata": {},
   "outputs": [
    {
     "name": "stdout",
     "output_type": "stream",
     "text": [
      "Accuracy: 0.6888888888888889\n"
     ]
    }
   ],
   "source": [
    "from sklearn.datasets import load_iris\n",
    "from sklearn.model_selection import train_test_split\n",
    "from sklearn.metrics import accuracy_score\n",
    "from sklearn.cluster import KMeans\n",
    "\n",
    "# Load data\n",
    "iris = load_iris()\n",
    "X, y = iris.data, iris.target\n",
    "\n",
    "# Split\n",
    "X_train, X_test, y_train, y_test = train_test_split(X, y, test_size=0.3, random_state=1)\n",
    "\n",
    "# Train & Predict\n",
    "clf = KMeans(n_clusters=2, random_state=0, n_init=\"auto\")\n",
    "clf.fit(X_train, y_train)\n",
    "y_pred = clf.predict(X_test)\n",
    "\n",
    "# Accuracy\n",
    "print(\"Accuracy:\", accuracy_score(y_test, y_pred))"
   ]
  },
  {
   "cell_type": "markdown",
   "id": "bed4daa1",
   "metadata": {},
   "source": [
    "2. scratch"
   ]
  },
  {
   "cell_type": "code",
   "execution_count": 4,
   "id": "1bc5283b",
   "metadata": {},
   "outputs": [
    {
     "name": "stdout",
     "output_type": "stream",
     "text": [
      "[94 19]\n",
      "Scratch KMeans Accuracy: 0.022222222222222223\n"
     ]
    }
   ],
   "source": [
    "import numpy as np\n",
    "from sklearn.datasets import load_iris\n",
    "from sklearn.model_selection import train_test_split\n",
    "from sklearn.metrics import accuracy_score\n",
    "from collections import Counter\n",
    "\n",
    "class KMeansScratch:\n",
    "    def __init__(self, n_clusters=3, max_iters=100, tol=1e-4):\n",
    "        self.k = n_clusters #有几个类\n",
    "        self.max_iters = max_iters #迭代次数\n",
    "        self.tol = tol #容差，容错性\n",
    "        self.centroids = None # kmeans中心\n",
    "        self.labels_ = None\n",
    "\n",
    "    def fit(self, X):\n",
    "        X = np.array(X)\n",
    "        n_samples, n_features = X.shape\n",
    "\n",
    "        # Initialize centroids randomly from samples\n",
    "        random_indices = np.random.choice(n_samples, self.k, replace=False) #不放回取样\n",
    "        print(random_indices)\n",
    "        self.centroids = X[random_indices]\n",
    "\n",
    "        for iteration in range(self.max_iters):\n",
    "            # Assign clusters\n",
    "            labels = self._assign_clusters(X)\n",
    "\n",
    "            # Recompute centroids\n",
    "            new_centroids = np.array([X[labels == i].mean(axis=0) for i in range(self.k)])\n",
    "\n",
    "            # Check convergence\n",
    "            if np.all(np.abs(new_centroids - self.centroids) < self.tol):\n",
    "                break\n",
    "\n",
    "            self.centroids = new_centroids\n",
    "\n",
    "        self.labels_ = self._assign_clusters(X)\n",
    "\n",
    "    def _assign_clusters(self, X):\n",
    "        distances = self._compute_distances(X)\n",
    "        return np.argmin(distances, axis=1)\n",
    "\n",
    "    def _compute_distances(self, X):\n",
    "        return np.linalg.norm(X[:, np.newaxis] - self.centroids, axis=2)\n",
    "\n",
    "    def predict(self, X):\n",
    "        return self._assign_clusters(np.array(X))\n",
    "\n",
    "\n",
    "\n",
    "# Load data\n",
    "iris = load_iris()\n",
    "X, y = iris.data, iris.target\n",
    "\n",
    "# Reduce to 2 clusters for comparison with your sklearn example\n",
    "X_train, X_test, y_train, y_test = train_test_split(X, y, test_size=0.3, random_state=1)\n",
    "\n",
    "# Train KMeans from scratch\n",
    "clf = KMeansScratch(n_clusters=2)\n",
    "clf.fit(X_train)\n",
    "y_pred = clf.predict(X_test)\n",
    "\n",
    "# Accuracy\n",
    "print(\"Scratch KMeans Accuracy:\", accuracy_score(y_test, y_pred))\n"
   ]
  }
 ],
 "metadata": {
  "kernelspec": {
   "display_name": "pytorch_env",
   "language": "python",
   "name": "python3"
  },
  "language_info": {
   "codemirror_mode": {
    "name": "ipython",
    "version": 3
   },
   "file_extension": ".py",
   "mimetype": "text/x-python",
   "name": "python",
   "nbconvert_exporter": "python",
   "pygments_lexer": "ipython3",
   "version": "3.11.11"
  }
 },
 "nbformat": 4,
 "nbformat_minor": 5
}
