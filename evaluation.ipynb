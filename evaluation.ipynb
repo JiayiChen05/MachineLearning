{
 "cells": [
  {
   "cell_type": "markdown",
   "id": "063d51d4",
   "metadata": {},
   "source": [
    "对于classification主要用accuracy,precision,recall,f1score"
   ]
  },
  {
   "cell_type": "code",
   "execution_count": 1,
   "id": "e63ff9be",
   "metadata": {},
   "outputs": [
    {
     "name": "stdout",
     "output_type": "stream",
     "text": [
      "              precision    recall  f1-score   support\n",
      "\n",
      "           0       1.00      1.00      1.00        15\n",
      "           1       0.94      0.94      0.94        18\n",
      "           2       0.92      0.92      0.92        12\n",
      "\n",
      "    accuracy                           0.96        45\n",
      "   macro avg       0.95      0.95      0.95        45\n",
      "weighted avg       0.96      0.96      0.96        45\n",
      "\n"
     ]
    },
    {
     "name": "stderr",
     "output_type": "stream",
     "text": [
      "/opt/anaconda3/envs/pytorch_env/lib/python3.11/site-packages/sklearn/linear_model/_logistic.py:1264: FutureWarning: 'multi_class' was deprecated in version 1.5 and will be removed in 1.7. From then on, it will always use 'multinomial'. Leave it to its default value to avoid this warning.\n",
      "  warnings.warn(\n"
     ]
    }
   ],
   "source": [
    "from sklearn.datasets import load_iris\n",
    "from sklearn.linear_model import LogisticRegression\n",
    "from sklearn.model_selection import train_test_split\n",
    "from sklearn.metrics import classification_report\n",
    "\n",
    "X, y = load_iris(return_X_y=True)\n",
    "X_train, X_test, y_train, y_test = train_test_split(X, y, test_size=0.3)\n",
    "\n",
    "model = LogisticRegression(multi_class='multinomial', solver='lbfgs', max_iter=200)\n",
    "model.fit(X_train, y_train)\n",
    "y_pred = model.predict(X_test)\n",
    "\n",
    "print(classification_report(y_test, y_pred))"
   ]
  },
  {
   "cell_type": "markdown",
   "id": "95d333df",
   "metadata": {},
   "source": [
    "Regression model"
   ]
  },
  {
   "cell_type": "code",
   "execution_count": 23,
   "id": "5d46b3fb",
   "metadata": {},
   "outputs": [
    {
     "name": "stdout",
     "output_type": "stream",
     "text": [
      "MSE: 0.08889\n",
      "MAE 0.08888888888888889\n",
      "R2 0.8717948717948718\n"
     ]
    },
    {
     "name": "stderr",
     "output_type": "stream",
     "text": [
      "/opt/anaconda3/envs/pytorch_env/lib/python3.11/site-packages/sklearn/linear_model/_logistic.py:1264: FutureWarning: 'multi_class' was deprecated in version 1.5 and will be removed in 1.7. From then on, it will always use 'multinomial'. Leave it to its default value to avoid this warning.\n",
      "  warnings.warn(\n"
     ]
    }
   ],
   "source": [
    "from sklearn.datasets import load_iris\n",
    "from sklearn.linear_model import LogisticRegression\n",
    "from sklearn.model_selection import train_test_split\n",
    "from sklearn.metrics import mean_squared_error, mean_absolute_error, r2_score\n",
    "\n",
    "X, y = load_iris(return_X_y=True)\n",
    "X_train, X_test, y_train, y_test = train_test_split(X, y, test_size=0.3)\n",
    "\n",
    "model = LogisticRegression(multi_class='multinomial', solver='lbfgs', max_iter=200)\n",
    "model.fit(X_train, y_train)\n",
    "y_pred = model.predict(X_test)\n",
    "\n",
    "print('MSE: {:.5f}'.format(mean_squared_error(y_test, y_pred)))\n",
    "print('MAE', mean_absolute_error(y_test,y_pred))\n",
    "print('R2', r2_score(y_test,y_pred))"
   ]
  },
  {
   "cell_type": "markdown",
   "id": "c5b18048",
   "metadata": {},
   "source": [
    "Regerssion model using scratch"
   ]
  },
  {
   "cell_type": "code",
   "execution_count": 1,
   "id": "77bb501d",
   "metadata": {},
   "outputs": [
    {
     "name": "stdout",
     "output_type": "stream",
     "text": [
      "Scratch MSE: 0.06667\n",
      "Scratch MAE: 0.06667\n",
      "Scratch R2 : 0.88302\n"
     ]
    },
    {
     "name": "stderr",
     "output_type": "stream",
     "text": [
      "/opt/anaconda3/envs/pytorch_env/lib/python3.11/site-packages/sklearn/linear_model/_logistic.py:1264: FutureWarning: 'multi_class' was deprecated in version 1.5 and will be removed in 1.7. From then on, it will always use 'multinomial'. Leave it to its default value to avoid this warning.\n",
      "  warnings.warn(\n"
     ]
    }
   ],
   "source": [
    "from sklearn.datasets import load_iris\n",
    "from sklearn.linear_model import LogisticRegression\n",
    "from sklearn.model_selection import train_test_split\n",
    "\n",
    "# 加载数据\n",
    "X, y = load_iris(return_X_y=True)\n",
    "X_train, X_test, y_train, y_test = train_test_split(X, y, test_size=0.3)\n",
    "\n",
    "# 建立模型并训练\n",
    "model = LogisticRegression(multi_class='multinomial', solver='lbfgs', max_iter=200)\n",
    "model.fit(X_train, y_train)\n",
    "\n",
    "# 预测\n",
    "y_pred = model.predict(X_test)\n",
    "\n",
    "# 计算指标 - scratch 方式\n",
    "def mean_squared_error_scratch(y_true, y_pred):\n",
    "    n = len(y_true)\n",
    "    return sum((yt - yp) ** 2 for yt, yp in zip(y_true, y_pred)) / n\n",
    "\n",
    "def mean_absolute_error_scratch(y_true, y_pred):\n",
    "    n = len(y_true)\n",
    "    return sum(abs(yt - yp) for yt, yp in zip(y_true, y_pred)) / n\n",
    "\n",
    "def r2_score_scratch(y_true, y_pred):\n",
    "    mean_y = sum(y_true) / len(y_true)\n",
    "    ss_total = sum((yt - mean_y) ** 2 for yt in y_true)\n",
    "    ss_res = sum((yt - yp) ** 2 for yt, yp in zip(y_true, y_pred))\n",
    "    return 1 - ss_res / ss_total\n",
    "\n",
    "# 打印结果\n",
    "print(\"Scratch MSE: {:.5f}\".format(mean_squared_error_scratch(y_test, y_pred)))\n",
    "print(\"Scratch MAE: {:.5f}\".format(mean_absolute_error_scratch(y_test, y_pred)))\n",
    "print(\"Scratch R2 : {:.5f}\".format(r2_score_scratch(y_test, y_pred)))\n"
   ]
  },
  {
   "cell_type": "code",
   "execution_count": 1,
   "id": "5da79f4d",
   "metadata": {},
   "outputs": [
    {
     "name": "stdout",
     "output_type": "stream",
     "text": [
      "Manual MSE: 0.06667\n",
      "Manual MAE: 0.06667\n",
      "Manual R²: 0.88880\n"
     ]
    },
    {
     "name": "stderr",
     "output_type": "stream",
     "text": [
      "/opt/anaconda3/envs/pytorch_env/lib/python3.11/site-packages/sklearn/linear_model/_logistic.py:1264: FutureWarning: 'multi_class' was deprecated in version 1.5 and will be removed in 1.7. From then on, it will always use 'multinomial'. Leave it to its default value to avoid this warning.\n",
      "  warnings.warn(\n"
     ]
    }
   ],
   "source": [
    "import numpy as np\n",
    "from sklearn.datasets import load_iris\n",
    "from sklearn.linear_model import LogisticRegression\n",
    "from sklearn.model_selection import train_test_split\n",
    "\n",
    "# 加载数据\n",
    "X, y = load_iris(return_X_y=True)\n",
    "X_train, X_test, y_train, y_test = train_test_split(X, y, test_size=0.3)\n",
    "\n",
    "# 训练模型\n",
    "model = LogisticRegression(multi_class='multinomial', solver='lbfgs', max_iter=200)\n",
    "model.fit(X_train, y_train)\n",
    "y_pred = model.predict(X_test)\n",
    "\n",
    "# 手动实现 MSE\n",
    "def mse(y_true, y_pred):\n",
    "    return np.mean((y_true - y_pred) ** 2)\n",
    "\n",
    "# 手动实现 MAE\n",
    "def mae(y_true, y_pred):\n",
    "    return np.mean(np.abs(y_true - y_pred))\n",
    "\n",
    "# 手动实现 R² (coefficient of determination)\n",
    "def r2_score_manual(y_true, y_pred):\n",
    "    ss_res = np.sum((y_true - y_pred) ** 2)  # residual sum of squares\n",
    "    ss_tot = np.sum((y_true - np.mean(y_true)) ** 2)  # total sum of squares\n",
    "    return 1 - ss_res / ss_tot\n",
    "\n",
    "# 计算指标\n",
    "print(\"Manual MSE: {:.5f}\".format(mse(y_test, y_pred)))\n",
    "print(\"Manual MAE: {:.5f}\".format(mae(y_test, y_pred)))\n",
    "print(\"Manual R²: {:.5f}\".format(r2_score_manual(y_test, y_pred)))\n"
   ]
  }
 ],
 "metadata": {
  "kernelspec": {
   "display_name": "pytorch_env",
   "language": "python",
   "name": "python3"
  },
  "language_info": {
   "codemirror_mode": {
    "name": "ipython",
    "version": 3
   },
   "file_extension": ".py",
   "mimetype": "text/x-python",
   "name": "python",
   "nbconvert_exporter": "python",
   "pygments_lexer": "ipython3",
   "version": "3.11.11"
  }
 },
 "nbformat": 4,
 "nbformat_minor": 5
}
