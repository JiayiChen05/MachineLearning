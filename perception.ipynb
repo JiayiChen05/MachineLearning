{
 "cells": [
  {
   "cell_type": "code",
   "execution_count": null,
   "id": "f7f72ca1",
   "metadata": {},
   "outputs": [],
   "source": [
    "import numpy as np\n",
    "def sigmoid_activation(x): #适用于二分类函数\n",
    "    return 1/(1+np.exp(-x))\n",
    "\n",
    "# 神经网络用输入层，隐藏层（可能多层），输出层组成，每一层都由z=wx+b,y=f(z),f是激活函数\n",
    "#正向传播：输入到输出的预测\n",
    "# 反向传播：输出到输入，通过loss_function来更新参数\n",
    "# 优化算法：1:用算法梯度下降进行参数更新：SGD package\n",
    "# 2: 在SGD基础上，Momentum加上历史动量\n",
    "# 3: AdaGrad 跟SGD不同的更新方法，会对每一个参数维护历史梯度的平方和自适应调整每一个参数的学习率\n",
    "\n",
    "def tanh_activation(x): #收敛速度快，一般用于中间隐藏层上，\n",
    "    return (np.exp(x)-np.exp(-x))/(np.exp(x)+np.exp(-x))\n",
    "\n",
    "def ReLu_activation(x):#运用的多，速度快\n",
    "    return np.maximum(0,x)\n",
    "\n",
    "def Leaky_ReLu_activation(alpha, x): # alpha一般取0.01, 减少relu出现都为0的情况\n",
    "    return np.where(x>0, x, alpha*x)\n",
    "\n",
    "# def softmax_activation(x): #一般针对多分类,矩阵\n",
    "#     return (e* np.exp(x))\n"
   ]
  },
  {
   "cell_type": "code",
   "execution_count": 11,
   "id": "25c01ad5",
   "metadata": {},
   "outputs": [
    {
     "name": "stdout",
     "output_type": "stream",
     "text": [
      "Accuracy: 0.6333333333333333\n"
     ]
    }
   ],
   "source": [
    "import numpy as np\n",
    "from sklearn.datasets import load_iris\n",
    "from sklearn.model_selection import train_test_split\n",
    "from sklearn.metrics import accuracy_score\n",
    "\n",
    "class Perceptron:\n",
    "    def __init__(self, learning_rate=0.01, n_iters=1000):\n",
    "        self.lr = learning_rate\n",
    "        self.n_iters = n_iters\n",
    "        self.activation_func = self._unit_step\n",
    "        self.weights = None\n",
    "        self.bias = None\n",
    "\n",
    "    def fit(self, X, y):\n",
    "        n_samples, n_features = X.shape\n",
    "        self.weights = np.zeros(n_features)\n",
    "        self.bias = 0\n",
    "\n",
    "        y_ = np.where(y <= 0, -1, 1)  # Convert labels to -1, 1\n",
    "\n",
    "        for _ in range(self.n_iters):\n",
    "            for idx, x_i in enumerate(X):\n",
    "                linear_output = np.dot(x_i, self.weights) + self.bias\n",
    "                y_pred = self.activation_func(linear_output)\n",
    "\n",
    "                # Update rule\n",
    "                update = self.lr * (y_[idx] - y_pred)\n",
    "                self.weights += update * x_i\n",
    "                self.bias += update\n",
    "\n",
    "    def predict(self, X):\n",
    "        linear_output = np.dot(X, self.weights) + self.bias\n",
    "        y_pred = self.activation_func(linear_output)\n",
    "        return np.where(y_pred > 0, 1, 0)\n",
    "\n",
    "    def _unit_step(self, x):\n",
    "        return ReLu_activation(x)\n",
    "        # return np.where(x >= 0, 1, -1)\n",
    "        # return 1/(1+np.exp(-x))\n",
    "\n",
    "\n",
    "\n",
    "# Load Iris dataset and use only 2 classes (Setosa vs Versicolor)\n",
    "iris = load_iris()\n",
    "X = iris.data\n",
    "y = iris.target\n",
    "\n",
    "# Select only Setosa and Versicolor (label 0 and 1)\n",
    "X = X[y != 2]\n",
    "y = y[y != 2]\n",
    "\n",
    "# Train/test split\n",
    "X_train, X_test, y_train, y_test = train_test_split(X, y, test_size=0.3, random_state=42)\n",
    "\n",
    "# Train perceptron\n",
    "p = Perceptron(learning_rate=0.01, n_iters=1000)\n",
    "p.fit(X_train, y_train)\n",
    "\n",
    "# Predict\n",
    "predictions = p.predict(X_test)\n",
    "\n",
    "# Evaluate\n",
    "print(\"Accuracy:\", accuracy_score(y_test, predictions))\n"
   ]
  }
 ],
 "metadata": {
  "kernelspec": {
   "display_name": "pytorch_env",
   "language": "python",
   "name": "python3"
  },
  "language_info": {
   "codemirror_mode": {
    "name": "ipython",
    "version": 3
   },
   "file_extension": ".py",
   "mimetype": "text/x-python",
   "name": "python",
   "nbconvert_exporter": "python",
   "pygments_lexer": "ipython3",
   "version": "3.11.11"
  }
 },
 "nbformat": 4,
 "nbformat_minor": 5
}
