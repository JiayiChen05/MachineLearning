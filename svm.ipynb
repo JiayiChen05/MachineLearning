{
 "cells": [
  {
   "cell_type": "markdown",
   "id": "ee16192c",
   "metadata": {},
   "source": [
    "sklearn"
   ]
  },
  {
   "cell_type": "code",
   "execution_count": 1,
   "id": "7480db34",
   "metadata": {},
   "outputs": [
    {
     "name": "stdout",
     "output_type": "stream",
     "text": [
      "Accuracy: 1.0\n"
     ]
    }
   ],
   "source": [
    "from sklearn.datasets import load_iris\n",
    "from sklearn.model_selection import train_test_split\n",
    "from sklearn.metrics import accuracy_score\n",
    "from sklearn.svm import SVC\n",
    "\n",
    "# Load data\n",
    "iris = load_iris()\n",
    "X, y = iris.data, iris.target\n",
    "\n",
    "# Split\n",
    "X_train, X_test, y_train, y_test = train_test_split(X, y, test_size=0.3, random_state=1)\n",
    "\n",
    "# Train & Predict\n",
    "clf = SVC(kernel='linear')\n",
    "clf.fit(X_train, y_train)\n",
    "y_pred = clf.predict(X_test)\n",
    "\n",
    "# Accuracy\n",
    "print(\"Accuracy:\", accuracy_score(y_test, y_pred))"
   ]
  },
  {
   "cell_type": "markdown",
   "id": "dc6531b5",
   "metadata": {},
   "source": [
    "2. scratch"
   ]
  },
  {
   "cell_type": "code",
   "execution_count": null,
   "id": "f1097d2c",
   "metadata": {},
   "outputs": [
    {
     "name": "stdout",
     "output_type": "stream",
     "text": [
      "[0 1 2]\n",
      "Scratch Linear SVM Accuracy: 0.8888888888888888\n"
     ]
    }
   ],
   "source": [
    "import numpy as np\n",
    "from sklearn.datasets import load_iris\n",
    "from sklearn.model_selection import train_test_split\n",
    "from sklearn.metrics import accuracy_score\n",
    "\n",
    "class LinearSVM:\n",
    "    def __init__(self, lr=0.001, lambda_param=0.01, n_iters=1000):  #lambda_param:防止过拟合\n",
    "        self.lr = lr\n",
    "        self.lambda_param = lambda_param\n",
    "        self.n_iters = n_iters\n",
    "        self.classes = None\n",
    "        self.weights = None\n",
    "        self.biases = None\n",
    "\n",
    "    def fit(self, X, y):\n",
    "        X = np.array(X)\n",
    "        y = np.array(y)\n",
    "        n_samples, n_features = X.shape\n",
    "        self.classes = np.unique(y)\n",
    "        n_classes = len(self.classes)\n",
    "\n",
    "        # Initialize weights and biases for one-vs-all\n",
    "        self.weights = np.zeros((n_classes, n_features))\n",
    "        self.biases = np.zeros(n_classes)\n",
    "        # print(self.weights.shape)\n",
    "        # print(self.biases.shape)\n",
    "\n",
    "        print(self.classes)\n",
    "\n",
    "        # 为每一个类别训练一个二分类器\n",
    "        for idx, c in enumerate(self.classes):\n",
    "            y_binary = np.where(y == c, 1, -1)  # One-vs-all\n",
    "            \n",
    "            # 更新w, b\n",
    "            w = np.zeros(n_features)\n",
    "            b = 0\n",
    "\n",
    "            for _ in range(self.n_iters):\n",
    "                for i in range(n_samples):\n",
    "                    condition = y_binary[i] * (np.dot(X[i], w) + b) >= 1\n",
    "                    if condition:\n",
    "                        w -= self.lr * (2 * self.lambda_param * w)\n",
    "                    else:\n",
    "                        w -= self.lr * (2 * self.lambda_param * w - np.dot(X[i], y_binary[i]))\n",
    "                        b -= self.lr * y_binary[i]\n",
    "\n",
    "            self.weights[idx] = w\n",
    "            self.biases[idx] = b\n",
    "\n",
    "    def predict(self, X):\n",
    "        # Compute scores for each class, choose the class with highest score\n",
    "        preds = np.dot(X, self.weights.T) + self.biases\n",
    "        return np.argmax(preds, axis=1)\n",
    "\n",
    "# Load data\n",
    "iris = load_iris()\n",
    "X, y = iris.data, iris.target\n",
    "\n",
    "# Split\n",
    "X_train, X_test, y_train, y_test = train_test_split(X, y, test_size=0.3, random_state=1)\n",
    "\n",
    "# Train\n",
    "clf = LinearSVM(lr=0.001, lambda_param=0.01, n_iters=1000)\n",
    "clf.fit(X_train, y_train)\n",
    "y_pred = clf.predict(X_test)\n",
    "\n",
    "# Accuracy\n",
    "print(\"Scratch Linear SVM Accuracy:\", accuracy_score(y_test, y_pred))\n"
   ]
  }
 ],
 "metadata": {
  "kernelspec": {
   "display_name": "pytorch_env",
   "language": "python",
   "name": "python3"
  },
  "language_info": {
   "codemirror_mode": {
    "name": "ipython",
    "version": 3
   },
   "file_extension": ".py",
   "mimetype": "text/x-python",
   "name": "python",
   "nbconvert_exporter": "python",
   "pygments_lexer": "ipython3",
   "version": "3.11.11"
  }
 },
 "nbformat": 4,
 "nbformat_minor": 5
}
